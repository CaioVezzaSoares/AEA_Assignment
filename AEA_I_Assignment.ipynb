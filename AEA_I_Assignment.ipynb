{
  "nbformat": 4,
  "nbformat_minor": 0,
  "metadata": {
    "colab": {
      "name": "AEA I Assignment.ipynb",
      "provenance": [],
      "collapsed_sections": []
    },
    "kernelspec": {
      "display_name": "Python 3",
      "name": "python3"
    }
  },
  "cells": [
    {
      "cell_type": "markdown",
      "metadata": {
        "id": "ZA3hiI3nkZiF"
      },
      "source": [
        "|Name|SNR|ANR|\n",
        "|----|---|----|\n",
        "|Alexander Mistillioglou|2062448|u360743|\n",
        "|Caio Soares|2065131|u245285|\n"
      ]
    },
    {
      "cell_type": "markdown",
      "metadata": {
        "id": "s2c5Gc0rqSZT"
      },
      "source": [
        "# Introduction"
      ]
    },
    {
      "cell_type": "markdown",
      "metadata": {
        "id": "jB6jFSfHH2m-"
      },
      "source": [
        "Every facet of life has been upended since the first Covid case has been identified in Wuhan, China. The ensuing measures to fight the pandemic deeply impacted society in several ways, either at an individual level or at an economic or political one. The implications of the pandemic to the political sphere are particularly interesting and important. They are interesting because different politicians and countries responded to the disease in different ways, ranging from denial of the need for action to adherence to the epidemiologists' recomendations or even the paradox of complete inaction after the recommendation of epidemiologists in order to achieve herd immunity. They are important because the response governments had to the pandemic had a myriad of consequences in public health, the economy and the political arena. The latter is of utmost importance in democracies as politicians are held accountable for their actions and in our case the pandemic related policies they adopt. In this paper we will attempt to identify this impact and we will use the case of Brazil, as it is one of the most severely affected countries and it recently had elections, which will help us assess the impact of covid in politics."
      ]
    },
    {
      "cell_type": "markdown",
      "metadata": {
        "id": "BzDaKErkjh-V"
      },
      "source": [
        "In Brazil, the lack of coordination between the Federal government, which downplayed the severity of the pandemic and dragged its feet when it came to fighting it, and State governments, which in general took a more proactive instance regarding it, hindered the country's response to the pandemic. Brazilian President Jair Bolsonaro's statements against social distancing measures increased political polarization and incentivized unsafe behaviour in part of the Brazilian population. Also the fact that the country has high levels of inequality and poverty incresed the disease's impact (Ponce, 2020). "
      ]
    },
    {
      "cell_type": "markdown",
      "metadata": {
        "id": "nEMuJURYxLRK"
      },
      "source": [
        "While the most of responsibility for fighting the pandemic lies on the Federal level, municipalities have an important role in it as well. Under the Brazilian Unified Health System (SUS), they receive funding from the federal government and are responsible for managing public health care facilities. Mayors also have the power to take discretionary measures to deal with the pandemic, such as putting a lockdown in place and public awareness campaings."
      ]
    },
    {
      "cell_type": "markdown",
      "metadata": {
        "id": "YBtr_mUtq2p_"
      },
      "source": [
        "In this project we will attempt to answer the following question: **\"Does the effectiveness of a municipal goverment's response to Covid influences its election outcomes?\".**"
      ]
    },
    {
      "cell_type": "markdown",
      "metadata": {
        "id": "bw5UJnDVjUPH"
      },
      "source": [
        "The rest of this document is organised as follows. In Section 2 we discuss the motivation for our question with a brief literature review. Section 3 describes the model that will be used. Sections 4 and 5 go through the data used. Section 6 describes our results and Section 7 briefly concludes."
      ]
    },
    {
      "cell_type": "markdown",
      "metadata": {
        "id": "t9LlciYyq6AC"
      },
      "source": [
        "# Motivation"
      ]
    },
    {
      "cell_type": "markdown",
      "metadata": {
        "id": "sRvAlDpMhewH"
      },
      "source": [
        "Literature on blame attribution and natural disasters find that voters may or may not punish incumbent politicians, depending on the circumstances."
      ]
    },
    {
      "cell_type": "markdown",
      "metadata": {
        "id": "9vm_biTChkpr"
      },
      "source": [
        "In a context of floods, Arceneaux and Stein (2006) find that voters can blame politicians for natural disasters, provided they perceive that incumbents could have done more to cushion the blow. Factors like a person's level of political knowledge and the impact of the flood on their life affect their voting behaviour. Individuals may also attribute blame to the government, but spare mayors if their blame is directed towards national or state levels."
      ]
    },
    {
      "cell_type": "markdown",
      "metadata": {
        "id": "y67vrRbghoFi"
      },
      "source": [
        "Bodet, Melanee and Tessier (2016) find that voters in Calgary (Canada) affected by floods did not assign blame to the incumbent mayor, or if they did it wasn't necessarily negative. This indicates that voters may be unable or unwilling to hold incumbent politicians accountable."
      ]
    },
    {
      "cell_type": "markdown",
      "metadata": {
        "id": "CbtMw_9hq_J5"
      },
      "source": [
        "There is evidence of blame attribution from Brazil as well, altough not in the context of natural disasters. Ferraz and Finan (2008) find that federal audits that resulted in the uncovering of corruption in municipalities had a significant impact in incumbents electoral performance. Ferraz and Finan (2011) also found that in municipalities where mayors are facing reelections corruption levels are significantly lower, indicating that politicians believe they can be punished by voters for bad behaviour."
      ]
    },
    {
      "cell_type": "markdown",
      "metadata": {
        "id": "zkcEZnKYhr_I"
      },
      "source": [
        "On the other side, we may see the 'Rally Around the Flag' effect, that will assist the incumbents maintain their support or even increase it. Baum (2002) found that foreign policy shocks can increase support for presidents, but not in a homogenous fashion. Political and economic characteristics determine whether different groups will rally around the incumbent, namely partisanship and political sophistication. Regarding support for incumbent and Covid, evidence from France (Giommoni and Loumeau, 2020) and Italy (De Vries, et al, 2020) suggests that the adoption of lockdown measures increases support for incumbents."
      ]
    },
    {
      "cell_type": "markdown",
      "metadata": {
        "id": "jkqFB3PtrNhd"
      },
      "source": [
        "# Method"
      ]
    },
    {
      "cell_type": "markdown",
      "metadata": {
        "id": "_6ZUgyiKrNeX"
      },
      "source": [
        "To answer our question we will make use of the first round of municipal elections held in Brazil on November 15<sup>th</sup>. Our variable of interest is the difference in vote share between first rounds of the 2020 and 2016 municipal elections. Since Brazil electoral rules limit the number of consecutive terms of all levels of the executive branch to two, all mayors in our sample have been sworn in on January 2017 and served their terms to completion."
      ]
    },
    {
      "cell_type": "markdown",
      "metadata": {
        "id": "m5T83FAwMQIU"
      },
      "source": [
        "The change in vote share is calculated as follows:"
      ]
    },
    {
      "cell_type": "markdown",
      "metadata": {
        "id": "5ox5bo78MUND"
      },
      "source": [
        "$$\\Delta vote_{i} = ln(vote.share_{2020, i}) - ln(vote.share_{2016, i})$$"
      ]
    },
    {
      "cell_type": "markdown",
      "metadata": {
        "id": "UnqrgxMzNCgw"
      },
      "source": [
        "Where *vote.share<sub>t,i</sub>* is the share of votes of the mayor of city *i* in year *t* election cycle."
      ]
    },
    {
      "cell_type": "markdown",
      "metadata": {
        "id": "Nsvs0UzJN41F"
      },
      "source": [
        "For Covid response we will use the death rate from SARS-Covid. In order to make cities comparable, we will calculate the average weekly death rate, counting from the first death until one day before the election. This makes cities in which the pandemic started at different points in time comparable."
      ]
    },
    {
      "cell_type": "markdown",
      "metadata": {
        "id": "hjvqPLsl4Ok-"
      },
      "source": [
        "Our model will then be:"
      ]
    },
    {
      "cell_type": "markdown",
      "metadata": {
        "id": "dI_kak0XC-Yy"
      },
      "source": [
        "$$\\Delta vote = covid + controls$$"
      ]
    },
    {
      "cell_type": "markdown",
      "metadata": {
        "id": "u8UgnODm4VwC"
      },
      "source": [
        "Our controls will be a city's Human Development Index (HDI), share of voters over 60 years old and ideology of the incumbent mayor. HDI ranks cities based on health (life expectancy), income and education. The variable ideology comes from a 2017 survey in which members of parliament ranked parties from 1 to 10, with 1 being far-left and 10 far-right."
      ]
    },
    {
      "cell_type": "markdown",
      "metadata": {
        "id": "calhgIswrVIk"
      },
      "source": [
        "# Data"
      ]
    },
    {
      "cell_type": "markdown",
      "metadata": {
        "id": "Dy6YhHvdrWyj"
      },
      "source": [
        "For our model we used publicly available data for election results, SARS-Covid deaths, and for our controls: Human Development Index (HDI), share of voter aged 60 or more and ideology of incumbent's party. Election results data and voter demographics were obtained from the [Brazilian Superior Electoral Court](https://www.tse.jus.br/eleicoes/estatisticas/repositorio-de-dados-eleitorais-1/repositorio-de-dados-eleitorais). Covid data can be found at [Brazilian Health Ministry](https://opendatasus.saude.gov.br/dataset/bd-srag-2020). Population data at [Brazilian Institute of Geography and Statistics](https://www.ibge.gov.br/estatisticas/sociais/populacao/9103-estimativas-de-populacao.html?=&t=resultados ). HDI at [United Nations Procurement Division](https://www.br.undp.org/content/brazil/pt/home/idh0/rankings/idhm-municipios-2010.html). Political orientation data can be found at [Brazilian Legislative Surveys](https://dataverse.harvard.edu/dataset.xhtml?persistentId=doi:10.7910/DVN/ARYBJI)."
      ]
    },
    {
      "cell_type": "markdown",
      "metadata": {
        "id": "WWIgZh_X743g"
      },
      "source": [
        "The following packages will be used:"
      ]
    },
    {
      "cell_type": "code",
      "metadata": {
        "id": "ePSuqm2rJr1w",
        "colab": {
          "base_uri": "https://localhost:8080/"
        },
        "outputId": "a1be2e19-49b8-43e0-c256-79beab83308f"
      },
      "source": [
        "import pandas as pd\n",
        "import numpy as np\n",
        "import re\n",
        "import unicodedata\n",
        "import matplotlib.pyplot as plt\n",
        "from datetime import datetime, timedelta\n",
        "!pip install geopandas\n",
        "import geopandas as gpd\n",
        "from statsmodels.formula.api import ols\n",
        "from statsmodels.iolib.summary2 import summary_col\n"
      ],
      "execution_count": 19,
      "outputs": [
        {
          "output_type": "stream",
          "name": "stdout",
          "text": [
            "Collecting geopandas\n",
            "  Downloading geopandas-0.10.2-py2.py3-none-any.whl (1.0 MB)\n",
            "\u001b[?25l\r\u001b[K     |▎                               | 10 kB 25.3 MB/s eta 0:00:01\r\u001b[K     |▋                               | 20 kB 31.6 MB/s eta 0:00:01\r\u001b[K     |█                               | 30 kB 25.5 MB/s eta 0:00:01\r\u001b[K     |█▎                              | 40 kB 20.6 MB/s eta 0:00:01\r\u001b[K     |█▋                              | 51 kB 17.4 MB/s eta 0:00:01\r\u001b[K     |██                              | 61 kB 14.1 MB/s eta 0:00:01\r\u001b[K     |██▎                             | 71 kB 13.5 MB/s eta 0:00:01\r\u001b[K     |██▌                             | 81 kB 14.8 MB/s eta 0:00:01\r\u001b[K     |██▉                             | 92 kB 15.6 MB/s eta 0:00:01\r\u001b[K     |███▏                            | 102 kB 11.9 MB/s eta 0:00:01\r\u001b[K     |███▌                            | 112 kB 11.9 MB/s eta 0:00:01\r\u001b[K     |███▉                            | 122 kB 11.9 MB/s eta 0:00:01\r\u001b[K     |████▏                           | 133 kB 11.9 MB/s eta 0:00:01\r\u001b[K     |████▌                           | 143 kB 11.9 MB/s eta 0:00:01\r\u001b[K     |████▊                           | 153 kB 11.9 MB/s eta 0:00:01\r\u001b[K     |█████                           | 163 kB 11.9 MB/s eta 0:00:01\r\u001b[K     |█████▍                          | 174 kB 11.9 MB/s eta 0:00:01\r\u001b[K     |█████▊                          | 184 kB 11.9 MB/s eta 0:00:01\r\u001b[K     |██████                          | 194 kB 11.9 MB/s eta 0:00:01\r\u001b[K     |██████▍                         | 204 kB 11.9 MB/s eta 0:00:01\r\u001b[K     |██████▊                         | 215 kB 11.9 MB/s eta 0:00:01\r\u001b[K     |███████                         | 225 kB 11.9 MB/s eta 0:00:01\r\u001b[K     |███████▎                        | 235 kB 11.9 MB/s eta 0:00:01\r\u001b[K     |███████▋                        | 245 kB 11.9 MB/s eta 0:00:01\r\u001b[K     |████████                        | 256 kB 11.9 MB/s eta 0:00:01\r\u001b[K     |████████▎                       | 266 kB 11.9 MB/s eta 0:00:01\r\u001b[K     |████████▋                       | 276 kB 11.9 MB/s eta 0:00:01\r\u001b[K     |█████████                       | 286 kB 11.9 MB/s eta 0:00:01\r\u001b[K     |█████████▏                      | 296 kB 11.9 MB/s eta 0:00:01\r\u001b[K     |█████████▌                      | 307 kB 11.9 MB/s eta 0:00:01\r\u001b[K     |█████████▉                      | 317 kB 11.9 MB/s eta 0:00:01\r\u001b[K     |██████████▏                     | 327 kB 11.9 MB/s eta 0:00:01\r\u001b[K     |██████████▌                     | 337 kB 11.9 MB/s eta 0:00:01\r\u001b[K     |██████████▉                     | 348 kB 11.9 MB/s eta 0:00:01\r\u001b[K     |███████████▏                    | 358 kB 11.9 MB/s eta 0:00:01\r\u001b[K     |███████████▍                    | 368 kB 11.9 MB/s eta 0:00:01\r\u001b[K     |███████████▊                    | 378 kB 11.9 MB/s eta 0:00:01\r\u001b[K     |████████████                    | 389 kB 11.9 MB/s eta 0:00:01\r\u001b[K     |████████████▍                   | 399 kB 11.9 MB/s eta 0:00:01\r\u001b[K     |████████████▊                   | 409 kB 11.9 MB/s eta 0:00:01\r\u001b[K     |█████████████                   | 419 kB 11.9 MB/s eta 0:00:01\r\u001b[K     |█████████████▍                  | 430 kB 11.9 MB/s eta 0:00:01\r\u001b[K     |█████████████▋                  | 440 kB 11.9 MB/s eta 0:00:01\r\u001b[K     |██████████████                  | 450 kB 11.9 MB/s eta 0:00:01\r\u001b[K     |██████████████▎                 | 460 kB 11.9 MB/s eta 0:00:01\r\u001b[K     |██████████████▋                 | 471 kB 11.9 MB/s eta 0:00:01\r\u001b[K     |███████████████                 | 481 kB 11.9 MB/s eta 0:00:01\r\u001b[K     |███████████████▎                | 491 kB 11.9 MB/s eta 0:00:01\r\u001b[K     |███████████████▋                | 501 kB 11.9 MB/s eta 0:00:01\r\u001b[K     |███████████████▉                | 512 kB 11.9 MB/s eta 0:00:01\r\u001b[K     |████████████████▏               | 522 kB 11.9 MB/s eta 0:00:01\r\u001b[K     |████████████████▌               | 532 kB 11.9 MB/s eta 0:00:01\r\u001b[K     |████████████████▉               | 542 kB 11.9 MB/s eta 0:00:01\r\u001b[K     |█████████████████▏              | 552 kB 11.9 MB/s eta 0:00:01\r\u001b[K     |█████████████████▌              | 563 kB 11.9 MB/s eta 0:00:01\r\u001b[K     |█████████████████▉              | 573 kB 11.9 MB/s eta 0:00:01\r\u001b[K     |██████████████████              | 583 kB 11.9 MB/s eta 0:00:01\r\u001b[K     |██████████████████▍             | 593 kB 11.9 MB/s eta 0:00:01\r\u001b[K     |██████████████████▊             | 604 kB 11.9 MB/s eta 0:00:01\r\u001b[K     |███████████████████             | 614 kB 11.9 MB/s eta 0:00:01\r\u001b[K     |███████████████████▍            | 624 kB 11.9 MB/s eta 0:00:01\r\u001b[K     |███████████████████▊            | 634 kB 11.9 MB/s eta 0:00:01\r\u001b[K     |████████████████████            | 645 kB 11.9 MB/s eta 0:00:01\r\u001b[K     |████████████████████▎           | 655 kB 11.9 MB/s eta 0:00:01\r\u001b[K     |████████████████████▋           | 665 kB 11.9 MB/s eta 0:00:01\r\u001b[K     |█████████████████████           | 675 kB 11.9 MB/s eta 0:00:01\r\u001b[K     |█████████████████████▎          | 686 kB 11.9 MB/s eta 0:00:01\r\u001b[K     |█████████████████████▋          | 696 kB 11.9 MB/s eta 0:00:01\r\u001b[K     |██████████████████████          | 706 kB 11.9 MB/s eta 0:00:01\r\u001b[K     |██████████████████████▎         | 716 kB 11.9 MB/s eta 0:00:01\r\u001b[K     |██████████████████████▋         | 727 kB 11.9 MB/s eta 0:00:01\r\u001b[K     |██████████████████████▉         | 737 kB 11.9 MB/s eta 0:00:01\r\u001b[K     |███████████████████████▏        | 747 kB 11.9 MB/s eta 0:00:01\r\u001b[K     |███████████████████████▌        | 757 kB 11.9 MB/s eta 0:00:01\r\u001b[K     |███████████████████████▉        | 768 kB 11.9 MB/s eta 0:00:01\r\u001b[K     |████████████████████████▏       | 778 kB 11.9 MB/s eta 0:00:01\r\u001b[K     |████████████████████████▌       | 788 kB 11.9 MB/s eta 0:00:01\r\u001b[K     |████████████████████████▉       | 798 kB 11.9 MB/s eta 0:00:01\r\u001b[K     |█████████████████████████       | 808 kB 11.9 MB/s eta 0:00:01\r\u001b[K     |█████████████████████████▍      | 819 kB 11.9 MB/s eta 0:00:01\r\u001b[K     |█████████████████████████▊      | 829 kB 11.9 MB/s eta 0:00:01\r\u001b[K     |██████████████████████████      | 839 kB 11.9 MB/s eta 0:00:01\r\u001b[K     |██████████████████████████▍     | 849 kB 11.9 MB/s eta 0:00:01\r\u001b[K     |██████████████████████████▊     | 860 kB 11.9 MB/s eta 0:00:01\r\u001b[K     |███████████████████████████     | 870 kB 11.9 MB/s eta 0:00:01\r\u001b[K     |███████████████████████████▎    | 880 kB 11.9 MB/s eta 0:00:01\r\u001b[K     |███████████████████████████▋    | 890 kB 11.9 MB/s eta 0:00:01\r\u001b[K     |████████████████████████████    | 901 kB 11.9 MB/s eta 0:00:01\r\u001b[K     |████████████████████████████▎   | 911 kB 11.9 MB/s eta 0:00:01\r\u001b[K     |████████████████████████████▋   | 921 kB 11.9 MB/s eta 0:00:01\r\u001b[K     |█████████████████████████████   | 931 kB 11.9 MB/s eta 0:00:01\r\u001b[K     |█████████████████████████████▎  | 942 kB 11.9 MB/s eta 0:00:01\r\u001b[K     |█████████████████████████████▌  | 952 kB 11.9 MB/s eta 0:00:01\r\u001b[K     |█████████████████████████████▉  | 962 kB 11.9 MB/s eta 0:00:01\r\u001b[K     |██████████████████████████████▏ | 972 kB 11.9 MB/s eta 0:00:01\r\u001b[K     |██████████████████████████████▌ | 983 kB 11.9 MB/s eta 0:00:01\r\u001b[K     |██████████████████████████████▉ | 993 kB 11.9 MB/s eta 0:00:01\r\u001b[K     |███████████████████████████████▏| 1.0 MB 11.9 MB/s eta 0:00:01\r\u001b[K     |███████████████████████████████▌| 1.0 MB 11.9 MB/s eta 0:00:01\r\u001b[K     |███████████████████████████████▊| 1.0 MB 11.9 MB/s eta 0:00:01\r\u001b[K     |████████████████████████████████| 1.0 MB 11.9 MB/s \n",
            "\u001b[?25hRequirement already satisfied: shapely>=1.6 in /usr/local/lib/python3.7/dist-packages (from geopandas) (1.7.1)\n",
            "Requirement already satisfied: pandas>=0.25.0 in /usr/local/lib/python3.7/dist-packages (from geopandas) (1.1.5)\n",
            "Collecting pyproj>=2.2.0\n",
            "  Downloading pyproj-3.2.1-cp37-cp37m-manylinux2010_x86_64.whl (6.3 MB)\n",
            "\u001b[K     |████████████████████████████████| 6.3 MB 62.3 MB/s \n",
            "\u001b[?25hCollecting fiona>=1.8\n",
            "  Downloading Fiona-1.8.20-cp37-cp37m-manylinux1_x86_64.whl (15.4 MB)\n",
            "\u001b[K     |████████████████████████████████| 15.4 MB 39 kB/s \n",
            "\u001b[?25hCollecting cligj>=0.5\n",
            "  Downloading cligj-0.7.2-py3-none-any.whl (7.1 kB)\n",
            "Requirement already satisfied: certifi in /usr/local/lib/python3.7/dist-packages (from fiona>=1.8->geopandas) (2021.5.30)\n",
            "Requirement already satisfied: attrs>=17 in /usr/local/lib/python3.7/dist-packages (from fiona>=1.8->geopandas) (21.2.0)\n",
            "Requirement already satisfied: click>=4.0 in /usr/local/lib/python3.7/dist-packages (from fiona>=1.8->geopandas) (7.1.2)\n",
            "Requirement already satisfied: setuptools in /usr/local/lib/python3.7/dist-packages (from fiona>=1.8->geopandas) (57.4.0)\n",
            "Collecting click-plugins>=1.0\n",
            "  Downloading click_plugins-1.1.1-py2.py3-none-any.whl (7.5 kB)\n",
            "Requirement already satisfied: six>=1.7 in /usr/local/lib/python3.7/dist-packages (from fiona>=1.8->geopandas) (1.15.0)\n",
            "Collecting munch\n",
            "  Downloading munch-2.5.0-py2.py3-none-any.whl (10 kB)\n",
            "Requirement already satisfied: pytz>=2017.2 in /usr/local/lib/python3.7/dist-packages (from pandas>=0.25.0->geopandas) (2018.9)\n",
            "Requirement already satisfied: python-dateutil>=2.7.3 in /usr/local/lib/python3.7/dist-packages (from pandas>=0.25.0->geopandas) (2.8.2)\n",
            "Requirement already satisfied: numpy>=1.15.4 in /usr/local/lib/python3.7/dist-packages (from pandas>=0.25.0->geopandas) (1.19.5)\n",
            "Installing collected packages: munch, cligj, click-plugins, pyproj, fiona, geopandas\n",
            "Successfully installed click-plugins-1.1.1 cligj-0.7.2 fiona-1.8.20 geopandas-0.10.2 munch-2.5.0 pyproj-3.2.1\n"
          ]
        }
      ]
    },
    {
      "cell_type": "markdown",
      "metadata": {
        "id": "-MsGV8FRV8sx"
      },
      "source": [
        "## Importing Data"
      ]
    },
    {
      "cell_type": "code",
      "metadata": {
        "colab": {
          "base_uri": "https://localhost:8080/"
        },
        "id": "CpV4XxKpZUum",
        "outputId": "8fc8d640-bb3e-4004-a105-3cdea689640d"
      },
      "source": [
        "from google.colab import drive\n",
        "drive.mount('/content/drive')"
      ],
      "execution_count": 4,
      "outputs": [
        {
          "output_type": "stream",
          "name": "stdout",
          "text": [
            "Drive already mounted at /content/drive; to attempt to forcibly remount, call drive.mount(\"/content/drive\", force_remount=True).\n"
          ]
        }
      ]
    },
    {
      "cell_type": "code",
      "metadata": {
        "colab": {
          "base_uri": "https://localhost:8080/"
        },
        "id": "rETRTiF3E57v",
        "outputId": "d6b04acb-ca65-49d6-c7f7-fd5736cb276c"
      },
      "source": [
        "\n",
        "# Election results data\n",
        "\n",
        "elec16 = pd.read_csv('/content/drive/MyDrive/Applied economic analysis/votacao_candidato_munzona_2016_BRASIL.csv', sep = ';', encoding = 'iso-8859-1')\n",
        "\n",
        "elec20 = pd.read_csv('/content/drive/MyDrive/Applied economic analysis/votacao_candidato_munzona_2020_BRASIL.csv', sep = ';', encoding = 'iso-8859-1')\n",
        "\n",
        "# Demographics\n",
        "\n",
        "demo20 = pd.read_csv('/content/drive/MyDrive/Applied economic analysis/perfil_eleitorado_2020.csv', sep = ';', encoding = 'iso-8859-1')\n",
        "\n",
        "# Covid data\n",
        "\n",
        "covid = pd.read_csv('/content/drive/MyDrive/Applied economic analysis/INFLUD-04-01-2021.csv', sep = ';', encoding = 'iso-8859-1')\n",
        "\n",
        "# HDI\n",
        "\n",
        "url = 'https://www.br.undp.org/content/brazil/pt/home/idh0/rankings/idhm-municipios-2010.html'\n",
        "\n",
        "table = pd.read_html(url)\n",
        "\n",
        "hdi = table[0]\n",
        "\n",
        "# Population per municipality\n",
        "\n",
        "pop = pd.read_excel('/content/drive/MyDrive/Applied economic analysis/POP2020_20201030.xls', sheet_name = 1, header = 1)\n",
        "\n",
        "# Political party ideology\n",
        "\n",
        "ideol = pd.read_csv('/content/drive/MyDrive/Applied economic analysis/BLS8_Data.csv')\n",
        "\n",
        "# Define function to remove diacritics\n",
        "\n",
        "def strip_accents(s):\n",
        "   return ''.join(c for c in unicodedata.normalize('NFD', s)\n",
        "                  if unicodedata.category(c) != 'Mn')\n"
      ],
      "execution_count": 5,
      "outputs": [
        {
          "output_type": "stream",
          "name": "stderr",
          "text": [
            "/usr/local/lib/python3.7/dist-packages/IPython/core/interactiveshell.py:2718: DtypeWarning: Columns (15,18,60,62,63,64,92,94,106,108,115,117,118,119,123) have mixed types.Specify dtype option on import or set low_memory=False.\n",
            "  interactivity=interactivity, compiler=compiler, result=result)\n"
          ]
        }
      ]
    },
    {
      "cell_type": "markdown",
      "metadata": {
        "id": "l-OE5UQSWDxJ"
      },
      "source": [
        "## Data Cleanup"
      ]
    },
    {
      "cell_type": "code",
      "metadata": {
        "id": "ix0PvzTUG3AP"
      },
      "source": [
        "# In order to make our datasets comparable, we need to make transformations so that we have a column with the values \"city (state)\". They should be all lower case and without diacritics\n",
        "\n",
        "# Election data\n",
        "\n",
        "# Add state to city variable\n",
        "\n",
        "elec16.NM_MUNICIPIO = elec16.NM_MUNICIPIO + ' (' + elec16.SG_UF + ')'\n",
        "elec20.NM_MUNICIPIO = elec20.NM_MUNICIPIO + ' (' + elec20.SG_UF + ')'\n",
        "\n",
        "# Make it lower string \n",
        "\n",
        "elec16.NM_MUNICIPIO = elec16['NM_MUNICIPIO'].str.lower()\n",
        "elec20.NM_MUNICIPIO = elec20['NM_MUNICIPIO'].str.lower()\n",
        "\n",
        "# Remove diacritics\n",
        "\n",
        "elec16.NM_MUNICIPIO = elec16['NM_MUNICIPIO'].apply(strip_accents)\n",
        "elec20.NM_MUNICIPIO = elec20['NM_MUNICIPIO'].apply(strip_accents)\n",
        "\n",
        "# Demographics\n",
        "\n",
        "demo20.NM_MUNICIPIO = demo20.NM_MUNICIPIO + ' (' + demo20.SG_UF + ')'\n",
        "demo20.NM_MUNICIPIO = demo20['NM_MUNICIPIO'].str.lower()\n",
        "demo20.NM_MUNICIPIO = demo20['NM_MUNICIPIO'].apply(strip_accents)\n",
        "\n",
        "demo20 = demo20.loc[demo20['CD_FAIXA_ETARIA'] != -3]\n",
        "\n",
        "# Covid\n",
        "\n",
        "covid.ID_MN_RESI = covid.ID_MN_RESI + ' (' + covid.SG_UF + ')'\n",
        "covid['ID_MN_RESI'] = covid['ID_MN_RESI'].str.lower()\n",
        "\n",
        "# HDI\n",
        "\n",
        "hdi['Município'] = hdi['Município'].str.lower()\n",
        "hdi['Município'] = hdi['Município'].apply(strip_accents)\n",
        "\n",
        "# Population dataframe\n",
        "\n",
        "pop.dropna(inplace = True)\n",
        "\n",
        "# Some values for population have footnotes, resulting in strings instead of floats. We will replace them with the proper values\n",
        "\n",
        "pop.iloc[16, 4] = 539354\n",
        "\n",
        "pop.iloc[110, 4] = 33049\n",
        "\n",
        "pop.iloc[123, 4] = 25865\n",
        "\n",
        "pop.iloc[134, 4] = 16130\n",
        "\n",
        "pop.iloc[210, 4] = 7590\n",
        "\n",
        "pop.iloc[579, 4] = 123747\n",
        "\n",
        "pop.iloc[1205, 4] = 103672\n",
        "\n",
        "pop.iloc[1526, 4] = 12170\n",
        "\n",
        "pop.iloc[1937, 4] = 15717\n",
        "\n",
        "pop.iloc[1973, 4] = 9031\n",
        "\n",
        "pop.iloc[2159, 4] = 9442\n",
        "\n",
        "pop.iloc[2237, 4] = 43712\n",
        "\n",
        "# Converting population column to float\n",
        "\n",
        "pop['POPULAÇÃO ESTIMADA'] = pop['POPULAÇÃO ESTIMADA'].astype(float)\n",
        "\n",
        "# Converting city name column to lower string and removing diacritics\n",
        "\n",
        "pop['NOME DO MUNICÍPIO'] = pop['NOME DO MUNICÍPIO'] + ' (' + pop['UF'] + ')'\n",
        "pop['NOME DO MUNICÍPIO'] = pop['NOME DO MUNICÍPIO'].str.lower()\n",
        "pop['NOME DO MUNICÍPIO'] = pop['NOME DO MUNICÍPIO'].apply(strip_accents)\n",
        "\n",
        "# Selecting the most recent political orientation (2017)\n",
        "\n",
        "ideol = ideol.loc[ideol['wave'] == 2017]\n"
      ],
      "execution_count": 6,
      "outputs": []
    },
    {
      "cell_type": "markdown",
      "metadata": {
        "id": "Fe6tBsD2Acnn"
      },
      "source": [
        "## Selecting Our Variables of Interest"
      ]
    },
    {
      "cell_type": "markdown",
      "metadata": {
        "id": "Vm6NjBihXJw9"
      },
      "source": [
        "### Filtering Incumbents"
      ]
    },
    {
      "cell_type": "code",
      "metadata": {
        "id": "wahQpunJ9QwD"
      },
      "source": [
        "# Subsetting our sample out of the data\n",
        "\n",
        "# Subsetting mayoral elections\n",
        "\n",
        "elec16 = elec16.loc[elec16['DS_CARGO'] == 'Prefeito']\n",
        "elec20 = elec20.loc[elec20['DS_CARGO'] == 'Prefeito']\n",
        "\n",
        "# Subsetting elected mayors in 2016 election\n",
        "\n",
        "elec16_mayors = elec16.loc[elec16['DS_SIT_TOT_TURNO'] == 'ELEITO']\n",
        "\n",
        "# Filtering incumbent mayors running in 2020\n",
        "\n",
        "incum20 = elec20[elec20['NM_CANDIDATO'].isin(elec16_mayors['NM_CANDIDATO'].unique())]\n"
      ],
      "execution_count": 7,
      "outputs": []
    },
    {
      "cell_type": "markdown",
      "metadata": {
        "id": "o_PhtB_TZPO1"
      },
      "source": [
        "### Selecting Data"
      ]
    },
    {
      "cell_type": "code",
      "metadata": {
        "id": "aBRsQa0afgOm"
      },
      "source": [
        "# Dataframe for regression variables\n",
        "\n",
        "data = pd.DataFrame(columns = ['city', 'state', 'pop', 'mayor', 'party', 'party_index', 'vote_share', 'covid', 'hdi', 'elderly'])\n",
        "\n",
        "# Populating city column\n",
        "\n",
        "data.city = incum20['NM_MUNICIPIO'].unique()\n",
        "\n",
        "# State column\n",
        "\n",
        "for c in data.city:\n",
        "  a = elec20.loc[elec20['NM_MUNICIPIO'] == c, 'SG_UF'].tolist()\n",
        "  data.loc[data['city'] == c, 'state'] = a[0]\n",
        "\n",
        "# Population column\n",
        "\n",
        "for c in pop['NOME DO MUNICÍPIO']:\n",
        "  a = pop.loc[pop['NOME DO MUNICÍPIO'] == c, 'POPULAÇÃO ESTIMADA'].tolist()\n",
        "  data.loc[data['city'] == c, 'pop'] = a[0]\n",
        "\n",
        "# Mayor\n",
        "\n",
        "for c in incum20['NM_MUNICIPIO']:\n",
        "  a = incum20.loc[incum20['NM_MUNICIPIO'] == c, 'NM_CANDIDATO'].tolist()\n",
        "  data.loc[data['city'] == c, 'mayor'] = a[0]\n",
        "\n",
        "# Party\n",
        "\n",
        "for c in incum20['NM_MUNICIPIO']:\n",
        "  a = incum20.loc[incum20['NM_MUNICIPIO'] == c, 'SG_PARTIDO'].tolist()\n",
        "  data.loc[data['city'] == c, 'party'] = a[0]\n"
      ],
      "execution_count": 8,
      "outputs": []
    },
    {
      "cell_type": "markdown",
      "metadata": {
        "id": "v-q95IOoghZo"
      },
      "source": [
        "### Change in Vote Share"
      ]
    },
    {
      "cell_type": "code",
      "metadata": {
        "id": "186pcuzxevAg"
      },
      "source": [
        "# First, we create and populate dataframes with vote share per candidate\n",
        "\n",
        "vote16 = pd.DataFrame(columns = ['city', 'name', 'votes', 'share'])\n",
        "vote20 = pd.DataFrame(columns = ['city', 'name', 'votes', 'share'])\n",
        "\n",
        "vote16.name = elec16['NM_CANDIDATO'].unique()\n",
        "vote20.name = elec20['NM_CANDIDATO'].unique()\n",
        "\n",
        "# The following loops identify city name for all mayors, while removing excess spaces before or after the municipality name\n",
        "\n",
        "for n in vote16.name:\n",
        "  vote16.loc[vote16['name'] == n, 'votes'] = elec16.QT_VOTOS_NOMINAIS[(elec16.NR_TURNO == 1) & (elec16.NM_CANDIDATO == n)].sum()\n",
        "  text = str(elec16.loc[elec16.loc[elec16['NM_CANDIDATO'] == n].index,'NM_MUNICIPIO'])\n",
        "  m = re.search('    (.+?)\\n', text)\n",
        "  if m:\n",
        "    found = m.group(1)\n",
        "  vote16.loc[vote16['name'] == n, 'city'] = found.strip()\n",
        "\n",
        "for n in vote20.name:\n",
        "  vote20.loc[vote20['name'] == n, 'votes'] = elec20.QT_VOTOS_NOMINAIS[(elec20.NR_TURNO == 1) & (elec20.NM_CANDIDATO == n)].sum()\n",
        "  text = str(elec20.loc[elec20.loc[elec20['NM_CANDIDATO'] == n].index,'NM_MUNICIPIO'])\n",
        "  m = re.search('    (.+?)\\n', text)\n",
        "  if m:\n",
        "    found = m.group(1)\n",
        "  vote20.loc[vote20['name'] == n, 'city'] = found.strip()\n",
        "\n",
        "for i in range(0, len(vote16)):\n",
        "  vote16.loc[i,'share'] = vote16.loc[i, 'votes']/(vote16.votes[vote16.city == vote16.loc[i, 'city']].sum()+1)\n",
        "\n",
        "for i in range(0, len(vote20)):\n",
        "  vote20.loc[i,'share'] = vote20.loc[i, 'votes']/(vote20.votes[vote20.city == vote20.loc[i, 'city']].sum()+1)\n",
        "\n",
        "vote16 = vote16.loc[vote16['votes'] != 0]\n",
        "vote20 = vote20.loc[vote20['votes'] != 0]\n",
        "\n",
        "# Then we calculate change in vote share and populate vote_share column in reg\n",
        "\n",
        "for n in data.mayor:\n",
        "     a = np.log(vote20.loc[vote20['name'] == n, 'share'].astype(float)).tolist()\n",
        "     b = np.log(vote16.loc[vote16['name'] == n, 'share'].astype(float)).tolist()\n",
        "     data.loc[data['mayor'] == n, 'vote_share'] = a[0] - b[0]\n"
      ],
      "execution_count": 9,
      "outputs": []
    },
    {
      "cell_type": "markdown",
      "metadata": {
        "id": "X0te-ey5gnbJ"
      },
      "source": [
        "### Covid Mortality"
      ]
    },
    {
      "cell_type": "code",
      "metadata": {
        "id": "klz62d1i9goO"
      },
      "source": [
        "# Filtering data\n",
        "\n",
        "# We will use municipality mortality rate by corona virus on election date, November 15th\n",
        "\n",
        "# First, we must convert DT_EVOLUCA column to datetime format\n",
        "\n",
        "covid.DT_EVOLUCA = pd.to_datetime(covid.DT_EVOLUCA)\n",
        "\n",
        "# Then, we filter based on the date, cases of SARS-CoVid and cases that resulted in death\n",
        "\n",
        "covid = covid.loc[covid['DT_EVOLUCA'] < '2020-11-15']\n",
        "\n",
        "covid = covid.loc[covid['CLASSI_FIN'] == 5]\n",
        "\n",
        "covid = covid.loc[covid['EVOLUCAO'] == 2]\n",
        "\n",
        "# Loop to populate covid column in data dataframe\n",
        "\n",
        "election_date = covid.DT_EVOLUCA.max()\n",
        "\n",
        "for c in data.city:\n",
        "    days = (election_date - covid.loc[covid['ID_MN_RESI'] == c, 'DT_EVOLUCA'].min()).days\n",
        "    if days != 0:\n",
        "      mean = covid.loc[covid['ID_MN_RESI'] == c, 'DT_EVOLUCA'].count()/(days + 1)\n",
        "      weekly = mean * 7\n",
        "      per_capita = weekly/data.loc[data['city'] == c, 'pop']\n",
        "      data.loc[data['city'] == c, 'covid'] = per_capita * 100000\n",
        "\n",
        "# Remove nan from data.covid\n",
        "\n",
        "data = data[data['covid'].notna()]\n"
      ],
      "execution_count": 10,
      "outputs": []
    },
    {
      "cell_type": "markdown",
      "metadata": {
        "id": "BlZXyHpPgr0W"
      },
      "source": [
        "### HDI"
      ]
    },
    {
      "cell_type": "code",
      "metadata": {
        "id": "aWMAwEmIHuQo"
      },
      "source": [
        "# HDI\n",
        "\n",
        "a = []\n",
        "\n",
        "for c in data.city:\n",
        "   a = hdi.loc[hdi['Município'] == c,'IDHM 2010'].astype(float).tolist()\n",
        "   if a != []:\n",
        "     data.loc[data['city'] == c, 'hdi'] = a[0]\n",
        " \n",
        "data = data[data['hdi'].notna()]"
      ],
      "execution_count": 11,
      "outputs": []
    },
    {
      "cell_type": "markdown",
      "metadata": {
        "id": "zQ9WNYtkguf-"
      },
      "source": [
        "### Voters Aged 60 or More"
      ]
    },
    {
      "cell_type": "code",
      "metadata": {
        "id": "8EO361tFIs7Y"
      },
      "source": [
        "# Demographics\n",
        "\n",
        "brackets = [6064, 6569, 7074, 7579, 8084, 8589, 9094, 9599, 9999]\n",
        "\n",
        "for c in data.city:\n",
        "  eld = 0\n",
        "  df1 = demo20.loc[demo20['NM_MUNICIPIO'] == c]\n",
        "  for b in brackets:\n",
        "    eld = df1.loc[df1['CD_FAIXA_ETARIA'] == b, 'QT_ELEITORES_PERFIL'].sum()\n",
        "  data.loc[data['city'] == c, 'elderly'] = eld/data.loc[data['city'] == c, 'pop']*100000\n"
      ],
      "execution_count": 12,
      "outputs": []
    },
    {
      "cell_type": "markdown",
      "metadata": {
        "id": "kLEO3igTg01y"
      },
      "source": [
        "### Incumbent's Party Ideology"
      ]
    },
    {
      "cell_type": "code",
      "metadata": {
        "id": "e_o2Qf0jJakB"
      },
      "source": [
        "# Ideology\n",
        "\n",
        "parties = ['PSC', 'PP', 'PSDB', 'MDB', 'PROS', 'PDT', 'REPUBLICANOS', 'PL', 'PSB', 'DEM', 'PSD', 'PSL', 'PTB', 'AVANTE',\n",
        "           'CIDADANIA', 'PT', 'PODE', 'SOLIDARIEDADE', 'PRTB', 'REDE', 'PMN', 'PV', 'PC do B', 'PATRIOTA', 'PTC', 'PMB']\n",
        "\n",
        "party = pd.DataFrame(columns = ['party', 'score'])\n",
        "\n",
        "party.party = parties\n",
        "\n",
        "# Missing values are -999\n",
        "\n",
        "# Some parties changed names between the survey was conducted (2017) and today. For that reason there are some discrepancies between their names on different dataframes\n",
        "\n",
        "party.loc[party['party'] == 'MDB', 'score'] = ideol.loc[ideol['lrpmdb'] != -999, 'lrpmdb'].mean()\n",
        "\n",
        "party.loc[party['party'] == 'DEM', 'score'] = ideol.loc[ideol['lrdem'] != -999, 'lrdem'].mean()\n",
        "\n",
        "party.loc[party['party'] == 'PC do B', 'score'] = ideol.loc[ideol['lrpcdob'] != -999, 'lrpcdob'].mean()\n",
        "\n",
        "party.loc[party['party'] == 'PDT', 'score'] = ideol.loc[ideol['lrpdt'] != -999, 'lrpdt'].mean()\n",
        "\n",
        "party.loc[party['party'] == 'PL', 'score'] = ideol.loc[ideol['lrpr'] != -999, 'lrpr'].mean()\n",
        "\n",
        "party.loc[party['party'] == 'PSB', 'score'] = ideol.loc[ideol['lrpsb'] != -999, 'lrpsb'].mean()\n",
        "\n",
        "party.loc[party['party'] == 'PSDB', 'score'] = ideol.loc[ideol['lrpsdb'] != -999, 'lrpsdb'].mean()\n",
        "\n",
        "party.loc[party['party'] == 'PT', 'score'] = ideol.loc[ideol['lrpt'] != -999, 'lrpt'].mean()\n",
        "\n",
        "party.loc[party['party'] == 'PTB', 'score'] = ideol.loc[ideol['lrptb'] != -999, 'lrptb'].mean()\n",
        "\n",
        "party.loc[party['party'] == 'SOLIDARIEDADE', 'score'] = ideol.loc[ideol['lrsd'] != -999, 'lrsd'].mean()\n",
        "\n",
        "party.loc[party['party'] == 'PSC', 'score'] = ideol.loc[ideol['lrpsc'] != -999, 'lrpsc'].mean()\n",
        "\n",
        "party.loc[party['party'] == 'PROS', 'score'] = ideol.loc[ideol['lrpros'] != -999, 'lrpros'].mean()\n",
        "\n",
        "party.loc[party['party'] == 'REDE', 'score'] = ideol.loc[ideol['lrrede'] != -999, 'lrrede'].mean()\n",
        "\n",
        "party.loc[party['party'] == 'PV', 'score'] = ideol.loc[ideol['lrpv'] != -999, 'lrpv'].mean()\n",
        "\n",
        "party.loc[party['party'] == 'PP', 'score'] = ideol.loc[ideol['lrpp_ppb'] != -999, 'lrpp_ppb'].mean()\n",
        "\n",
        "party.loc[party['party'] == 'REPUBLICANOS', 'score'] = ideol.loc[ideol['lrprb'] != -999, 'lrprb'].mean()\n",
        "\n",
        "party.loc[party['party'] == 'PSD', 'score'] = ideol.loc[ideol['lrpsd'] != -999, 'lrpsd'].mean()\n",
        "\n",
        "party.loc[party['party'] == 'PODE', 'score'] = ideol.loc[ideol['lrptn'] != -999, 'lrptn'].mean()\n",
        "\n",
        "party.loc[party['party'] == 'CIDADANIA', 'score'] = ideol.loc[ideol['lrpps'] != -999, 'lrpps'].mean()\n",
        "\n",
        "# Adding party indexes to data dataframe\n",
        "\n",
        "data.reset_index(inplace = True)\n",
        "\n",
        "for i in range(0, len(data)):\n",
        "  data.loc[i, 'party_index'] = float(party.loc[party['party'] == data.loc[i, 'party'], 'score'])"
      ],
      "execution_count": 13,
      "outputs": []
    },
    {
      "cell_type": "markdown",
      "metadata": {
        "id": "4fuYwRywZq-_"
      },
      "source": [
        "## Data Visualization"
      ]
    },
    {
      "cell_type": "markdown",
      "metadata": {
        "id": "VvpZ0R3fBY-D"
      },
      "source": [
        "### Covid Deaths in Brazil"
      ]
    },
    {
      "cell_type": "code",
      "metadata": {
        "colab": {
          "base_uri": "https://localhost:8080/",
          "height": 265
        },
        "id": "3NwqLeMGZ4jI",
        "outputId": "9d93f9c4-f7bc-4d83-cfcc-04dae87b4596"
      },
      "source": [
        "# Populate dataframe with cummulative distribution\n",
        "\n",
        "cum_covid = pd.DataFrame(columns = ['date', 'count', 'cumulative'])\n",
        "\n",
        "d = covid['DT_EVOLUCA'].min()\n",
        "stop = covid['DT_EVOLUCA'].max()+timedelta(days=1)\n",
        "i = 0\n",
        "\n",
        "while d < stop:\n",
        "  cum_covid.loc[i, 'date'] = d\n",
        "  cum_covid.loc[i, 'count'] = covid.loc[covid['DT_EVOLUCA'] == d, 'DT_EVOLUCA'].count()\n",
        "  d = d + timedelta(days=1)\n",
        "  i = i + 1\n",
        "\n",
        "cum_covid.loc[0, 'cumulative'] = cum_covid.loc[0, 'count']\n",
        "\n",
        "for i in range(1,len(cum_covid)):\n",
        "  cum_covid.loc[i, 'cumulative'] = cum_covid.loc[(i-1), 'cumulative'] + cum_covid.loc[i, 'count']\n",
        "\n",
        "plt.plot(cum_covid['cumulative'].astype(float))\n",
        "\n",
        "plt.show()"
      ],
      "execution_count": 14,
      "outputs": [
        {
          "output_type": "display_data",
          "data": {
            "image/png": "[encoded data removed]",
            "text/plain": [
              "<Figure size 432x288 with 1 Axes>"
            ]
          },
          "metadata": {
            "needs_background": "light"
          }
        }
      ]
    },
    {
      "cell_type": "markdown",
      "metadata": {
        "id": "21oYJDfxg_KU"
      },
      "source": [
        "### Descriptive Statistics of Sample"
      ]
    },
    {
      "cell_type": "code",
      "metadata": {
        "colab": {
          "base_uri": "https://localhost:8080/",
          "height": 300
        },
        "id": "68FyI5l1Z5P4",
        "outputId": "17c26d19-a4f9-4f21-b6e5-56395bc1c8cb"
      },
      "source": [
        "pd.set_option('display.float_format', lambda x: '%.4f' % x)\n",
        "\n",
        "data.loc[:,['pop', 'vote_share', 'covid', 'hdi', 'elderly']].astype(float).describe()\n"
      ],
      "execution_count": 15,
      "outputs": [
        {
          "output_type": "execute_result",
          "data": {
            "text/html": [
              "<div>\n",
              "<style scoped>\n",
              "    .dataframe tbody tr th:only-of-type {\n",
              "        vertical-align: middle;\n",
              "    }\n",
              "\n",
              "    .dataframe tbody tr th {\n",
              "        vertical-align: top;\n",
              "    }\n",
              "\n",
              "    .dataframe thead th {\n",
              "        text-align: right;\n",
              "    }\n",
              "</style>\n",
              "<table border=\"1\" class=\"dataframe\">\n",
              "  <thead>\n",
              "    <tr style=\"text-align: right;\">\n",
              "      <th></th>\n",
              "      <th>pop</th>\n",
              "      <th>vote_share</th>\n",
              "      <th>covid</th>\n",
              "      <th>hdi</th>\n",
              "      <th>elderly</th>\n",
              "    </tr>\n",
              "  </thead>\n",
              "  <tbody>\n",
              "    <tr>\n",
              "      <th>count</th>\n",
              "      <td>2180.0000</td>\n",
              "      <td>2180.0000</td>\n",
              "      <td>2180.0000</td>\n",
              "      <td>2180.0000</td>\n",
              "      <td>2180.0000</td>\n",
              "    </tr>\n",
              "    <tr>\n",
              "      <th>mean</th>\n",
              "      <td>43477.9055</td>\n",
              "      <td>-0.0895</td>\n",
              "      <td>1.9455</td>\n",
              "      <td>660.4188</td>\n",
              "      <td>40.8840</td>\n",
              "    </tr>\n",
              "    <tr>\n",
              "      <th>std</th>\n",
              "      <td>181413.0317</td>\n",
              "      <td>0.4921</td>\n",
              "      <td>2.9963</td>\n",
              "      <td>73.2188</td>\n",
              "      <td>66.1475</td>\n",
              "    </tr>\n",
              "    <tr>\n",
              "      <th>min</th>\n",
              "      <td>1410.0000</td>\n",
              "      <td>-4.1793</td>\n",
              "      <td>0.0647</td>\n",
              "      <td>418.0000</td>\n",
              "      <td>0.0000</td>\n",
              "    </tr>\n",
              "    <tr>\n",
              "      <th>25%</th>\n",
              "      <td>7265.7500</td>\n",
              "      <td>-0.2895</td>\n",
              "      <td>0.8802</td>\n",
              "      <td>600.0000</td>\n",
              "      <td>3.0438</td>\n",
              "    </tr>\n",
              "    <tr>\n",
              "      <th>50%</th>\n",
              "      <td>15042.0000</td>\n",
              "      <td>-0.0547</td>\n",
              "      <td>1.4299</td>\n",
              "      <td>669.0000</td>\n",
              "      <td>21.1557</td>\n",
              "    </tr>\n",
              "    <tr>\n",
              "      <th>75%</th>\n",
              "      <td>31808.2500</td>\n",
              "      <td>0.1629</td>\n",
              "      <td>2.2229</td>\n",
              "      <td>720.0000</td>\n",
              "      <td>52.6492</td>\n",
              "    </tr>\n",
              "    <tr>\n",
              "      <th>max</th>\n",
              "      <td>6747815.0000</td>\n",
              "      <td>1.4330</td>\n",
              "      <td>80.7941</td>\n",
              "      <td>847.0000</td>\n",
              "      <td>1241.8075</td>\n",
              "    </tr>\n",
              "  </tbody>\n",
              "</table>\n",
              "</div>"
            ],
            "text/plain": [
              "               pop  vote_share     covid       hdi   elderly\n",
              "count    2180.0000   2180.0000 2180.0000 2180.0000 2180.0000\n",
              "mean    43477.9055     -0.0895    1.9455  660.4188   40.8840\n",
              "std    181413.0317      0.4921    2.9963   73.2188   66.1475\n",
              "min      1410.0000     -4.1793    0.0647  418.0000    0.0000\n",
              "25%      7265.7500     -0.2895    0.8802  600.0000    3.0438\n",
              "50%     15042.0000     -0.0547    1.4299  669.0000   21.1557\n",
              "75%     31808.2500      0.1629    2.2229  720.0000   52.6492\n",
              "max   6747815.0000      1.4330   80.7941  847.0000 1241.8075"
            ]
          },
          "metadata": {},
          "execution_count": 15
        }
      ]
    },
    {
      "cell_type": "markdown",
      "metadata": {
        "id": "F6mP6iEvhPLq"
      },
      "source": [
        "### Scatterplots"
      ]
    },
    {
      "cell_type": "code",
      "metadata": {
        "colab": {
          "base_uri": "https://localhost:8080/",
          "height": 803
        },
        "id": "kPljXCHgZ44t",
        "outputId": "c6d76ec2-e3d6-471d-a803-6704f65e8fdb"
      },
      "source": [
        "# Scatterplots\n",
        "\n",
        "plt.scatter(data.covid, data.vote_share)\n",
        "plt.xlabel('Covid Death Rate')\n",
        "plt.ylabel('Vote Share Change')\n",
        "plt.show()\n",
        "\n",
        "plt.scatter(data.covid, data.hdi)\n",
        "plt.xlabel('Covid Death Rate')\n",
        "plt.ylabel('HDI')\n",
        "plt.show()\n",
        "\n",
        "plt.scatter(data.covid, data.elderly)\n",
        "plt.xlabel('Covid Death Rate')\n",
        "plt.ylabel('Share of Voters Aged 60 or More')\n",
        "plt.show()"
      ],
      "execution_count": 16,
      "outputs": [
        {
          "output_type": "display_data",
          "data": {
            "image/png": "[encoded data removed]",
            "text/plain": [
              "<Figure size 432x288 with 1 Axes>"
            ]
          },
          "metadata": {
            "needs_background": "light"
          }
        },
        {
          "output_type": "display_data",
          "data": {
            "image/png": "[encoded data removed]",
            "text/plain": [
              "<Figure size 432x288 with 1 Axes>"
            ]
          },
          "metadata": {
            "needs_background": "light"
          }
        },
        {
          "output_type": "display_data",
          "data": {
            "image/png": "[encoded data removed]",
            "text/plain": [
              "<Figure size 432x288 with 1 Axes>"
            ]
          },
          "metadata": {
            "needs_background": "light"
          }
        }
      ]
    },
    {
      "cell_type": "markdown",
      "metadata": {
        "id": "gazF_fohhTQm"
      },
      "source": [
        "### Heatmap of covid cases in the sample by state"
      ]
    },
    {
      "cell_type": "code",
      "metadata": {
        "id": "Db3MXuJ9aP4-",
        "colab": {
          "base_uri": "https://localhost:8080/",
          "height": 611
        },
        "outputId": "e5428ed6-e52f-4f5f-8a24-35a0c1492bd2"
      },
      "source": [
        "# source: https://rodrigodutcosky.medium.com/mapas-coropl%C3%A9ticos-com-os-estados-do-brasil-em-python-b9b48c6db585\n",
        "\n",
        "# Map file can be found at https://www.ibge.gov.br/geociencias/downloads-geociencias.html, cartas e mapas > bases_cartograficas_continuas > bcim > versao 2016 > geopackage\n",
        "\n",
        "info_st = gpd.read_file('/content/drive/MyDrive/Applied economic analysis/bcim_2016_21_11_2018.gpkg', layer = 'lim_unidade_federacao_a')\n",
        "\n",
        "# Dataframe with aggregate data by state\n",
        "\n",
        "covid_st = pd.DataFrame(columns = ['state', 'covid'])\n",
        "\n",
        "states = ['AC', 'AL', 'AP', 'AM', 'BA', 'CE', 'DF', 'ES', 'GO', 'MA', 'MT', 'MS', 'MG', 'PA', 'PB', 'PR', 'PE', 'PI', 'RJ', 'RN', 'RS', 'RO', 'RR', 'SC', 'SP', 'SE', 'TO']\n",
        "\n",
        "covid_st.state = states\n",
        "\n",
        "for s in states:\n",
        "  covid_st.loc[covid_st['state'] == s, 'covid'] = data.loc[data['state'] == s, 'covid'].mean()\n",
        "\n",
        "# Rename column to match on next step\n",
        "\n",
        "info_st.rename({'sigla':'state'}, axis = 1, inplace = True)\n",
        "\n",
        "# Add info_st to covid_st\n",
        "\n",
        "covid_st = info_st.merge(covid_st, on = 'state', how = 'left')\n",
        "\n",
        "# Plot map\n",
        "\n",
        "covid_st.plot(column = 'covid', cmap = 'Reds', figsize = (16,10), edgecolor = 'black')\n"
      ],
      "execution_count": 20,
      "outputs": [
        {
          "output_type": "execute_result",
          "data": {
            "text/plain": [
              "<matplotlib.axes._subplots.AxesSubplot at 0x7fe57cf939d0>"
            ]
          },
          "metadata": {},
          "execution_count": 20
        },
        {
          "output_type": "display_data",
          "data": {
            "image/png": "[encoded data removed]",
            "text/plain": [
              "<Figure size 1152x720 with 1 Axes>"
            ]
          },
          "metadata": {
            "needs_background": "light"
          }
        }
      ]
    },
    {
      "cell_type": "markdown",
      "metadata": {
        "id": "Z66ndMqxsJe1"
      },
      "source": [
        "# Discussion"
      ]
    },
    {
      "cell_type": "markdown",
      "metadata": {
        "id": "0cliUR-O8h9s"
      },
      "source": [
        "We will run our model on three subsets of the sample. First, we will use all the cities that fit in the model. Then, to check if there is any differences related to population size, we will filter our data, first taking only cities with over 25,000 inhabitants and then over 50,000."
      ]
    },
    {
      "cell_type": "markdown",
      "metadata": {
        "id": "XVwKlH1E-eL9"
      },
      "source": [
        "## Full Sample"
      ]
    },
    {
      "cell_type": "code",
      "metadata": {
        "id": "qbX992d0e348",
        "colab": {
          "base_uri": "https://localhost:8080/"
        },
        "outputId": "1546f3d4-8b2d-4f78-ae33-a15ba7a339b3"
      },
      "source": [
        "reg = pd.DataFrame()\n",
        "reg['vote'] = data['vote_share'].astype(float)\n",
        "reg['covid'] = data['covid'].astype(float)\n",
        "reg['hdi'] = data['hdi'].astype(float)\n",
        "reg['elder'] = data['elderly'].astype(float)\n",
        "reg['ideol'] = data['party_index'].astype(float)\n",
        "reg['pop'] = data['pop'].astype(float)\n",
        "\n",
        "naive = ols(\"vote ~ covid\", data = reg).fit()\n",
        "controls = ols(\"vote ~ covid + hdi + elder\", data = reg).fit()\n",
        "ideol = ols(\"vote ~ covid + hdi + elder + ideol\", data = reg, missing = 'drop').fit()\n",
        "\n",
        "output1 = summary_col([naive,controls,ideol],stars=True, info_dict = {'N':lambda x: \"{0:d}\".format(int(x.nobs)),'R2':lambda x: \"{:.2f}\".format(x.rsquared)})\n",
        "print(output1)"
      ],
      "execution_count": 21,
      "outputs": [
        {
          "output_type": "stream",
          "name": "stdout",
          "text": [
            "\n",
            "==========================================\n",
            "            vote I    vote II    vote III \n",
            "------------------------------------------\n",
            "Intercept -0.0895*** 0.2195**   0.1418    \n",
            "          (0.0126)   (0.0998)   (0.1076)  \n",
            "covid     0.0000     0.0005     0.0003    \n",
            "          (0.0035)   (0.0035)   (0.0036)  \n",
            "elder                -0.0003*   -0.0003*  \n",
            "                     (0.0002)   (0.0002)  \n",
            "hdi                  -0.0005*** -0.0004***\n",
            "                     (0.0001)   (0.0001)  \n",
            "ideol                           0.0050    \n",
            "                                (0.0077)  \n",
            "N         2180       2180       2107      \n",
            "R2        0.00       0.00       0.00      \n",
            "==========================================\n",
            "Standard errors in parentheses.\n",
            "* p<.1, ** p<.05, ***p<.01\n"
          ]
        }
      ]
    },
    {
      "cell_type": "markdown",
      "metadata": {
        "id": "ihsbnmeW-hrH"
      },
      "source": [
        "## Cities Over 25,000 Inhabitants"
      ]
    },
    {
      "cell_type": "code",
      "metadata": {
        "id": "2rOS4oj7f6j6",
        "colab": {
          "base_uri": "https://localhost:8080/"
        },
        "outputId": "ecd94187-6c3f-4708-e5ec-2540e66f0199"
      },
      "source": [
        "reg = reg.loc[reg['pop'] > 25000]\n",
        "\n",
        "naive2 = ols(\"vote ~ covid\", data = reg).fit()\n",
        "controls2 = ols(\"vote ~ covid + hdi + elder\", data = reg).fit()\n",
        "ideol2 = ols(\"vote ~ covid + hdi + elder + ideol\", data = reg, missing = 'drop').fit()\n",
        "\n",
        "output2 = summary_col([naive2,controls2,ideol2],stars=True, info_dict = {'N':lambda x: \"{0:d}\".format(int(x.nobs)),'R2':lambda x: \"{:.2f}\".format(x.rsquared)})\n",
        "print(output2)"
      ],
      "execution_count": 22,
      "outputs": [
        {
          "output_type": "stream",
          "name": "stdout",
          "text": [
            "\n",
            "======================================\n",
            "            vote I   vote II  vote III\n",
            "--------------------------------------\n",
            "Intercept -0.1531*** 0.0333   -0.1350 \n",
            "          (0.0429)   (0.2079) (0.2212)\n",
            "covid     0.0215     0.0209   0.0346  \n",
            "          (0.0258)   (0.0263) (0.0265)\n",
            "elder                -0.0006  -0.0005 \n",
            "                     (0.0005) (0.0005)\n",
            "hdi                  -0.0002  -0.0002 \n",
            "                     (0.0003) (0.0003)\n",
            "ideol                         0.0182  \n",
            "                              (0.0163)\n",
            "N         712        712      689     \n",
            "R2        0.00       0.00     0.01    \n",
            "======================================\n",
            "Standard errors in parentheses.\n",
            "* p<.1, ** p<.05, ***p<.01\n"
          ]
        }
      ]
    },
    {
      "cell_type": "markdown",
      "metadata": {
        "id": "A0TARxZi-l6U"
      },
      "source": [
        "## Cities Over 50,000 Inhabitants"
      ]
    },
    {
      "cell_type": "code",
      "metadata": {
        "id": "LbgU6NAzeWM-",
        "colab": {
          "base_uri": "https://localhost:8080/"
        },
        "outputId": "638a3607-4f89-44bf-d40f-3136cc34b3f9"
      },
      "source": [
        "reg = reg.loc[reg['pop'] > 50000]\n",
        "\n",
        "naive3 = ols(\"vote ~ covid\", data = reg).fit()\n",
        "controls3 = ols(\"vote ~ covid + hdi + elder\", data = reg).fit()\n",
        "ideol3 = ols(\"vote ~ covid + hdi + elder + ideol\", data = reg, missing = 'drop').fit()\n",
        "\n",
        "output3 = summary_col([naive3,controls3,ideol3],stars=True, info_dict = {'N':lambda x: \"{0:d}\".format(int(x.nobs)),'R2':lambda x: \"{:.2f}\".format(x.rsquared)})\n",
        "print(output3)"
      ],
      "execution_count": 23,
      "outputs": [
        {
          "output_type": "stream",
          "name": "stdout",
          "text": [
            "\n",
            "==========================================\n",
            "            vote I    vote II    vote III \n",
            "------------------------------------------\n",
            "Intercept -0.3267*** -0.2890    -0.5200   \n",
            "          (0.0849)   (0.3816)   (0.3869)  \n",
            "covid     0.1078**   0.1029**   0.1218**  \n",
            "          (0.0490)   (0.0490)   (0.0484)  \n",
            "elder                -0.0031*** -0.0032***\n",
            "                     (0.0011)   (0.0011)  \n",
            "hdi                  0.0001     0.0000    \n",
            "                     (0.0005)   (0.0005)  \n",
            "ideol                           0.0390    \n",
            "                                (0.0267)  \n",
            "N         331        331        323       \n",
            "R2        0.01       0.04       0.05      \n",
            "==========================================\n",
            "Standard errors in parentheses.\n",
            "* p<.1, ** p<.05, ***p<.01\n"
          ]
        }
      ]
    },
    {
      "cell_type": "markdown",
      "metadata": {
        "id": "nDKdZBCrsLIB"
      },
      "source": [
        "# Conclusion"
      ]
    },
    {
      "cell_type": "markdown",
      "metadata": {
        "id": "gOuo80RBAMV0"
      },
      "source": [
        "Overall, we did not found evidence that SARS-Covid death rate affects incumbent mayors vote share. The only statistically significant (5% confidence level) result in that regard was found when the sample was restricted to cities with 50,000 inhabitants or more. For that subset of the sample we find a quite counterintuitive result, namely that higher Covid mortality is associated with higher vote share for incumbents."
      ]
    },
    {
      "cell_type": "markdown",
      "metadata": {
        "id": "hcHopf8yChnx"
      },
      "source": [
        "There are some reasons for why we find such a puzzling result. From an econometric perspective, there might be uncontrolled confounders, which would simultaneously increase both vote share of incumbents and Covid death rate, which in turn would result in the positive coefficient for Covid mortality, even though it has does not have a positive effect on the vote share of an incubent. Another explanation comes from a political science angle. Voters may not perceive mayors as responsible for Covid mortality, either by attributing blame to politicians on the State and Federal spheres or by framing as an 'Act of God'. If that is the case, a higher mortality rate could boost the 'Rallly-Around-the-Flag' phenomenon, benefiting incumbent mayors.\n"
      ]
    },
    {
      "cell_type": "markdown",
      "metadata": {
        "id": "EXbRpPS6CeV5"
      },
      "source": [
        "# References"
      ]
    },
    {
      "cell_type": "markdown",
      "metadata": {
        "id": "qx9cnE7moUzj"
      },
      "source": [
        "Arceneaux, Kevin, and Robert M. Stein. \"Who is held responsible when disaster strikes? The attribution of responsibility for a natural disaster in an urban election.\" Journal of Urban Affairs 28.1 (2006): 43-53.\n",
        "\n",
        "Baum, Matthew A. \"The constituent foundations of the rally-round-the-flag phenomenon.\" International Studies Quarterly 46.2 (2002): 263-298.\n",
        "\n",
        "Bodet, Marc Andre, Melanee Thomas, and Charles Tessier. \"Come hell or high water: An investigation of the effects of a natural disaster on a local election.\" Electoral Studies 43 (2016): 85-94.\n",
        "\n",
        "De Vries, Catherine E., et al. \"Crisis Signaling: How Italy's Coronavirus Lockdown Affected Incumbent Support in Other European Countries.\" Available at SSRN 3606149 (2020).\n",
        "\n",
        "Ferraz, Claudio, and Frederico Finan. \"Exposing corrupt politicians: the effects of Brazil's publicly released audits on electoral outcomes.\" The Quarterly journal of economics 123.2 (2008): 703-745.\n",
        "\n",
        "Ferraz, Claudio, and Frederico Finan. \"Electoral accountability and corruption: Evidence from the audits of local governments.\" American Economic Review 101.4 (2011): 1274-1311.\n",
        "\n",
        "Giommoni, Tommaso, and Gabriel Loumeau. \"Lockdown and voting behaviour: A natural experiment on postponed elections during the COVID-19 pandemic.\" Available at SSRN (2020).\n",
        "\n",
        "Ponce, Daniela. \"The impact of coronavirus in Brazil: politics and the pandemic.\" Nature Reviews Nephrology 16.9 (2020): 483-483.\n",
        "\n",
        "Zucco, Cesar; Power, Timothy J., 2019, \"Brazilian Legislative Surveys (Waves 1-8, 1990-2017)\", https://doi.org/10.7910/DVN/ARYBJI, Harvard Dataverse, V2, UNF:6:OZ4b3ybYKksC255DkruPxg== [fileUNF]"
      ]
    }
  ]
}